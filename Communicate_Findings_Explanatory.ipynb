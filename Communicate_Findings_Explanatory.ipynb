{
 "cells": [
  {
   "cell_type": "markdown",
   "id": "ad0fb96f",
   "metadata": {
    "slideshow": {
     "slide_type": "slide"
    }
   },
   "source": [
    "## PISA Survey\n",
    "\n",
    "### Investigation Overview\n",
    "\n",
    "Are there differences in achievement based on gender, location, wealth, or student attitudes?\n",
    "\n",
    "Does there exist inequality in academic achievement?\n",
    "\n",
    "<a id='intro'></a>\n",
    "### Dataset Overview\n",
    "\n",
    "I choose **PISA** Dataset to analyze. PISA is a survey of students' skills and knowledge as they approach the end of compulsory education. It is not a conventional school test. Rather than examining how well students have learned the school curriculum, it looks at how well prepared they are for life beyond school.\n",
    "\n",
    "Around 510,000 students in 65 economies took part in the PISA 2012 assessment of reading, mathematics and science representing about 28 million 15-year-olds globally. Of those economies, 44 took part in an assessment of creative problem solving and 18 in an assessment of financial literacy."
   ]
  },
  {
   "cell_type": "code",
   "execution_count": 4,
   "id": "613a7fd4",
   "metadata": {
    "slideshow": {
     "slide_type": "skip"
    }
   },
   "outputs": [],
   "source": [
    "#To get started, let's import our libraries. More may be imported when needed\n",
    "#import the required pakages for our analysis\n",
    "\n",
    "import pandas as pd\n",
    "import numpy as np\n",
    "import matplotlib.pyplot as plt\n",
    "import seaborn as sb"
   ]
  },
  {
   "cell_type": "code",
   "execution_count": 5,
   "id": "f8086e79",
   "metadata": {
    "slideshow": {
     "slide_type": "skip"
    }
   },
   "outputs": [
    {
     "name": "stderr",
     "output_type": "stream",
     "text": [
      "C:\\Users\\engab\\Anaconda3\\lib\\site-packages\\IPython\\core\\interactiveshell.py:3165: DtypeWarning: Columns (15,16,17,21,22,23,24,25,26,30,31,36,37,45,65,123,155,156,157,158,159,160,161,162,163,164,165,166,167,168,169,170,171,284,285,286,287,288,289,290,291,292,293,294,295,296,297,298,299,300,301,302,303,307,308,309,310,311,312,313,314,315,316,317,318,319,320,321,322,323,324,325,326,327,328,329,330,331,332,333,334,335,336,337,338,339,340,341,342,343,344,345,346,347,348,349,350,351,352,353,354,355,356,357,376,377,378,379,380,381,382,383,384,385,386,387,388,389,390,391,392,393,394,395,396,397,398,399,400,401,402,403,475) have mixed types.Specify dtype option on import or set low_memory=False.\n",
      "  has_raised = await self.run_ast_nodes(code_ast.body, cell_name,\n"
     ]
    }
   ],
   "source": [
    "#read the data \n",
    "df = pd.read_csv('pisa2012.csv')"
   ]
  },
  {
   "cell_type": "markdown",
   "id": "e1b12cd0",
   "metadata": {
    "slideshow": {
     "slide_type": "skip"
    }
   },
   "source": [
    "Let's discover the data set!"
   ]
  },
  {
   "cell_type": "markdown",
   "id": "6f2f1179",
   "metadata": {
    "slideshow": {
     "slide_type": "skip"
    }
   },
   "source": [
    "starting by its size"
   ]
  },
  {
   "cell_type": "code",
   "execution_count": 6,
   "id": "e007da6d",
   "metadata": {
    "slideshow": {
     "slide_type": "skip"
    }
   },
   "outputs": [
    {
     "data": {
      "text/plain": [
       "(485490, 636)"
      ]
     },
     "execution_count": 6,
     "metadata": {},
     "output_type": "execute_result"
    }
   ],
   "source": [
    "df.shape #really huge"
   ]
  },
  {
   "cell_type": "markdown",
   "id": "d5b80530",
   "metadata": {
    "slideshow": {
     "slide_type": "skip"
    }
   },
   "source": [
    "The data set is really huge. Let's discover more about its content, features, data types etc."
   ]
  },
  {
   "cell_type": "code",
   "execution_count": 7,
   "id": "4fa772cc",
   "metadata": {
    "slideshow": {
     "slide_type": "skip"
    }
   },
   "outputs": [
    {
     "data": {
      "text/plain": [
       "Index(['Unnamed: 0', 'CNT', 'SUBNATIO', 'STRATUM', 'OECD', 'NC', 'SCHOOLID',\n",
       "       'STIDSTD', 'ST01Q01', 'ST02Q01',\n",
       "       ...\n",
       "       'W_FSTR75', 'W_FSTR76', 'W_FSTR77', 'W_FSTR78', 'W_FSTR79', 'W_FSTR80',\n",
       "       'WVARSTRR', 'VAR_UNIT', 'SENWGT_STU', 'VER_STU'],\n",
       "      dtype='object', length=636)"
      ]
     },
     "execution_count": 7,
     "metadata": {},
     "output_type": "execute_result"
    }
   ],
   "source": [
    "df.columns #alot of features"
   ]
  },
  {
   "cell_type": "markdown",
   "id": "97ff04eb",
   "metadata": {
    "slideshow": {
     "slide_type": "skip"
    }
   },
   "source": [
    "After loading the variables and having a look at them, I picked some for our analysis considering all data types (categorical and numerical)"
   ]
  },
  {
   "cell_type": "code",
   "execution_count": 8,
   "id": "6019f1f6",
   "metadata": {
    "slideshow": {
     "slide_type": "skip"
    }
   },
   "outputs": [],
   "source": [
    "variables_df = pd.read_csv('pisadict2012.csv')\n",
    "#variables_df.head(20)\n",
    "#pick interesting variables and give them meaningful names\n",
    "short_var_dict = {'CNT':'Country','OECD':'OECD','ST01Q01':'InternationalGrade',\n",
    "                  'ST04Q01':'Gender','ST03Q01':'BirthMonth','ST03Q02':'BirthYear',\n",
    "                  'AGE':'AGE','ESCS':'IndexEconomicSocialCulturalStatus','MISCED':'MotherEducation',\n",
    "                  'ST19Q01':'FatherJobStatus','ST88Q02':'TimeWaste','ST88Q04':'UsefulForJob',\n",
    "                  'ST26Q06':'Internet','WEALTH':'Wealth','GRADE':'GRADE'}\n",
    "#short_var_dict.keys()"
   ]
  },
  {
   "cell_type": "code",
   "execution_count": 9,
   "id": "7c3de90f",
   "metadata": {
    "scrolled": true,
    "slideshow": {
     "slide_type": "skip"
    }
   },
   "outputs": [
    {
     "data": {
      "text/html": [
       "<div>\n",
       "<style scoped>\n",
       "    .dataframe tbody tr th:only-of-type {\n",
       "        vertical-align: middle;\n",
       "    }\n",
       "\n",
       "    .dataframe tbody tr th {\n",
       "        vertical-align: top;\n",
       "    }\n",
       "\n",
       "    .dataframe thead th {\n",
       "        text-align: right;\n",
       "    }\n",
       "</style>\n",
       "<table border=\"1\" class=\"dataframe\">\n",
       "  <thead>\n",
       "    <tr style=\"text-align: right;\">\n",
       "      <th></th>\n",
       "      <th>Country</th>\n",
       "      <th>OECD</th>\n",
       "      <th>InternationalGrade</th>\n",
       "      <th>Gender</th>\n",
       "      <th>BirthMonth</th>\n",
       "      <th>BirthYear</th>\n",
       "      <th>AGE</th>\n",
       "      <th>IndexEconomicSocialCulturalStatus</th>\n",
       "      <th>MotherEducation</th>\n",
       "      <th>FatherJobStatus</th>\n",
       "      <th>TimeWaste</th>\n",
       "      <th>UsefulForJob</th>\n",
       "      <th>Internet</th>\n",
       "      <th>Wealth</th>\n",
       "      <th>GRADE</th>\n",
       "    </tr>\n",
       "  </thead>\n",
       "  <tbody>\n",
       "    <tr>\n",
       "      <th>4743</th>\n",
       "      <td>United Arab Emirates</td>\n",
       "      <td>Non-OECD</td>\n",
       "      <td>10</td>\n",
       "      <td>Male</td>\n",
       "      <td>8</td>\n",
       "      <td>1996</td>\n",
       "      <td>15.75</td>\n",
       "      <td>0.65</td>\n",
       "      <td>ISCED 5A, 6</td>\n",
       "      <td>Working full-time &lt;for pay&gt;</td>\n",
       "      <td>Agree</td>\n",
       "      <td>Strongly disagree</td>\n",
       "      <td>Yes</td>\n",
       "      <td>-1.06</td>\n",
       "      <td>0.0</td>\n",
       "    </tr>\n",
       "    <tr>\n",
       "      <th>4744</th>\n",
       "      <td>United Arab Emirates</td>\n",
       "      <td>Non-OECD</td>\n",
       "      <td>10</td>\n",
       "      <td>Male</td>\n",
       "      <td>6</td>\n",
       "      <td>1996</td>\n",
       "      <td>15.92</td>\n",
       "      <td>0.72</td>\n",
       "      <td>ISCED 5B</td>\n",
       "      <td>Not working, but looking for a job</td>\n",
       "      <td>Agree</td>\n",
       "      <td>Agree</td>\n",
       "      <td>Yes</td>\n",
       "      <td>0.67</td>\n",
       "      <td>0.0</td>\n",
       "    </tr>\n",
       "    <tr>\n",
       "      <th>4745</th>\n",
       "      <td>United Arab Emirates</td>\n",
       "      <td>Non-OECD</td>\n",
       "      <td>10</td>\n",
       "      <td>Male</td>\n",
       "      <td>9</td>\n",
       "      <td>1996</td>\n",
       "      <td>15.67</td>\n",
       "      <td>-0.09</td>\n",
       "      <td>ISCED 5B</td>\n",
       "      <td>Working part-time &lt;for pay&gt;</td>\n",
       "      <td>Disagree</td>\n",
       "      <td>Strongly agree</td>\n",
       "      <td>Yes</td>\n",
       "      <td>-0.14</td>\n",
       "      <td>0.0</td>\n",
       "    </tr>\n",
       "    <tr>\n",
       "      <th>4747</th>\n",
       "      <td>United Arab Emirates</td>\n",
       "      <td>Non-OECD</td>\n",
       "      <td>10</td>\n",
       "      <td>Male</td>\n",
       "      <td>3</td>\n",
       "      <td>1996</td>\n",
       "      <td>16.17</td>\n",
       "      <td>-0.24</td>\n",
       "      <td>ISCED 3A, ISCED 4</td>\n",
       "      <td>Other (e.g. home duties, retired)</td>\n",
       "      <td>Agree</td>\n",
       "      <td>Agree</td>\n",
       "      <td>Yes</td>\n",
       "      <td>-0.84</td>\n",
       "      <td>0.0</td>\n",
       "    </tr>\n",
       "    <tr>\n",
       "      <th>4748</th>\n",
       "      <td>United Arab Emirates</td>\n",
       "      <td>Non-OECD</td>\n",
       "      <td>9</td>\n",
       "      <td>Male</td>\n",
       "      <td>11</td>\n",
       "      <td>1996</td>\n",
       "      <td>15.50</td>\n",
       "      <td>0.25</td>\n",
       "      <td>ISCED 5A, 6</td>\n",
       "      <td>Not working, but looking for a job</td>\n",
       "      <td>Agree</td>\n",
       "      <td>Strongly disagree</td>\n",
       "      <td>Yes</td>\n",
       "      <td>-1.29</td>\n",
       "      <td>-1.0</td>\n",
       "    </tr>\n",
       "    <tr>\n",
       "      <th>...</th>\n",
       "      <td>...</td>\n",
       "      <td>...</td>\n",
       "      <td>...</td>\n",
       "      <td>...</td>\n",
       "      <td>...</td>\n",
       "      <td>...</td>\n",
       "      <td>...</td>\n",
       "      <td>...</td>\n",
       "      <td>...</td>\n",
       "      <td>...</td>\n",
       "      <td>...</td>\n",
       "      <td>...</td>\n",
       "      <td>...</td>\n",
       "      <td>...</td>\n",
       "      <td>...</td>\n",
       "    </tr>\n",
       "    <tr>\n",
       "      <th>485483</th>\n",
       "      <td>Vietnam</td>\n",
       "      <td>Non-OECD</td>\n",
       "      <td>10</td>\n",
       "      <td>Female</td>\n",
       "      <td>1</td>\n",
       "      <td>1996</td>\n",
       "      <td>16.25</td>\n",
       "      <td>-0.50</td>\n",
       "      <td>ISCED 3A, ISCED 4</td>\n",
       "      <td>Working full-time &lt;for pay&gt;</td>\n",
       "      <td>Strongly disagree</td>\n",
       "      <td>Strongly agree</td>\n",
       "      <td>No</td>\n",
       "      <td>-2.04</td>\n",
       "      <td>0.0</td>\n",
       "    </tr>\n",
       "    <tr>\n",
       "      <th>485484</th>\n",
       "      <td>Vietnam</td>\n",
       "      <td>Non-OECD</td>\n",
       "      <td>10</td>\n",
       "      <td>Male</td>\n",
       "      <td>8</td>\n",
       "      <td>1996</td>\n",
       "      <td>15.67</td>\n",
       "      <td>-2.21</td>\n",
       "      <td>None</td>\n",
       "      <td>Other (e.g. home duties, retired)</td>\n",
       "      <td>Disagree</td>\n",
       "      <td>Strongly agree</td>\n",
       "      <td>Yes</td>\n",
       "      <td>-1.06</td>\n",
       "      <td>0.0</td>\n",
       "    </tr>\n",
       "    <tr>\n",
       "      <th>485486</th>\n",
       "      <td>Vietnam</td>\n",
       "      <td>Non-OECD</td>\n",
       "      <td>10</td>\n",
       "      <td>Male</td>\n",
       "      <td>2</td>\n",
       "      <td>1996</td>\n",
       "      <td>16.17</td>\n",
       "      <td>-1.22</td>\n",
       "      <td>None</td>\n",
       "      <td>Other (e.g. home duties, retired)</td>\n",
       "      <td>Strongly disagree</td>\n",
       "      <td>Agree</td>\n",
       "      <td>Yes</td>\n",
       "      <td>-0.58</td>\n",
       "      <td>0.0</td>\n",
       "    </tr>\n",
       "    <tr>\n",
       "      <th>485487</th>\n",
       "      <td>Vietnam</td>\n",
       "      <td>Non-OECD</td>\n",
       "      <td>10</td>\n",
       "      <td>Male</td>\n",
       "      <td>6</td>\n",
       "      <td>1996</td>\n",
       "      <td>15.83</td>\n",
       "      <td>-1.92</td>\n",
       "      <td>ISCED 1</td>\n",
       "      <td>Working full-time &lt;for pay&gt;</td>\n",
       "      <td>Disagree</td>\n",
       "      <td>Disagree</td>\n",
       "      <td>No</td>\n",
       "      <td>-2.04</td>\n",
       "      <td>0.0</td>\n",
       "    </tr>\n",
       "    <tr>\n",
       "      <th>485488</th>\n",
       "      <td>Vietnam</td>\n",
       "      <td>Non-OECD</td>\n",
       "      <td>10</td>\n",
       "      <td>Male</td>\n",
       "      <td>6</td>\n",
       "      <td>1996</td>\n",
       "      <td>15.83</td>\n",
       "      <td>-0.71</td>\n",
       "      <td>ISCED 2</td>\n",
       "      <td>Other (e.g. home duties, retired)</td>\n",
       "      <td>Strongly disagree</td>\n",
       "      <td>Agree</td>\n",
       "      <td>Yes</td>\n",
       "      <td>-1.53</td>\n",
       "      <td>0.0</td>\n",
       "    </tr>\n",
       "  </tbody>\n",
       "</table>\n",
       "<p>278698 rows × 15 columns</p>\n",
       "</div>"
      ],
      "text/plain": [
       "                     Country      OECD  InternationalGrade  Gender  \\\n",
       "4743    United Arab Emirates  Non-OECD                  10    Male   \n",
       "4744    United Arab Emirates  Non-OECD                  10    Male   \n",
       "4745    United Arab Emirates  Non-OECD                  10    Male   \n",
       "4747    United Arab Emirates  Non-OECD                  10    Male   \n",
       "4748    United Arab Emirates  Non-OECD                   9    Male   \n",
       "...                      ...       ...                 ...     ...   \n",
       "485483               Vietnam  Non-OECD                  10  Female   \n",
       "485484               Vietnam  Non-OECD                  10    Male   \n",
       "485486               Vietnam  Non-OECD                  10    Male   \n",
       "485487               Vietnam  Non-OECD                  10    Male   \n",
       "485488               Vietnam  Non-OECD                  10    Male   \n",
       "\n",
       "        BirthMonth  BirthYear    AGE  IndexEconomicSocialCulturalStatus  \\\n",
       "4743             8       1996  15.75                               0.65   \n",
       "4744             6       1996  15.92                               0.72   \n",
       "4745             9       1996  15.67                              -0.09   \n",
       "4747             3       1996  16.17                              -0.24   \n",
       "4748            11       1996  15.50                               0.25   \n",
       "...            ...        ...    ...                                ...   \n",
       "485483           1       1996  16.25                              -0.50   \n",
       "485484           8       1996  15.67                              -2.21   \n",
       "485486           2       1996  16.17                              -1.22   \n",
       "485487           6       1996  15.83                              -1.92   \n",
       "485488           6       1996  15.83                              -0.71   \n",
       "\n",
       "          MotherEducation                     FatherJobStatus  \\\n",
       "4743          ISCED 5A, 6        Working full-time <for pay>    \n",
       "4744             ISCED 5B  Not working, but looking for a job   \n",
       "4745             ISCED 5B         Working part-time <for pay>   \n",
       "4747    ISCED 3A, ISCED 4  Other (e.g. home duties, retired)    \n",
       "4748          ISCED 5A, 6  Not working, but looking for a job   \n",
       "...                   ...                                 ...   \n",
       "485483  ISCED 3A, ISCED 4        Working full-time <for pay>    \n",
       "485484               None  Other (e.g. home duties, retired)    \n",
       "485486               None  Other (e.g. home duties, retired)    \n",
       "485487            ISCED 1        Working full-time <for pay>    \n",
       "485488            ISCED 2  Other (e.g. home duties, retired)    \n",
       "\n",
       "                TimeWaste       UsefulForJob Internet  Wealth  GRADE  \n",
       "4743                Agree  Strongly disagree      Yes   -1.06    0.0  \n",
       "4744                Agree              Agree      Yes    0.67    0.0  \n",
       "4745             Disagree     Strongly agree      Yes   -0.14    0.0  \n",
       "4747                Agree              Agree      Yes   -0.84    0.0  \n",
       "4748                Agree  Strongly disagree      Yes   -1.29   -1.0  \n",
       "...                   ...                ...      ...     ...    ...  \n",
       "485483  Strongly disagree     Strongly agree       No   -2.04    0.0  \n",
       "485484           Disagree     Strongly agree      Yes   -1.06    0.0  \n",
       "485486  Strongly disagree              Agree      Yes   -0.58    0.0  \n",
       "485487           Disagree           Disagree       No   -2.04    0.0  \n",
       "485488  Strongly disagree              Agree      Yes   -1.53    0.0  \n",
       "\n",
       "[278698 rows x 15 columns]"
      ]
     },
     "execution_count": 9,
     "metadata": {},
     "output_type": "execute_result"
    }
   ],
   "source": [
    "#subset the original df and save the new one as the original one is too large with many many features with no use for may analysis.\n",
    "#from this moment on the analysis will be on the new subsetted df.\n",
    "df1 = df[short_var_dict.keys()]\n",
    "#change columns names for a more meaningful names\n",
    "df1 = df1.rename(columns=short_var_dict)\n",
    "#drop rows with missing values  \n",
    "df1 = df1.dropna()\n",
    "df1 #this df is in a good shape for my analysis"
   ]
  },
  {
   "cell_type": "markdown",
   "id": "5b1e8513",
   "metadata": {
    "slideshow": {
     "slide_type": "skip"
    }
   },
   "source": [
    "Let's look at these variables closely!"
   ]
  },
  {
   "cell_type": "code",
   "execution_count": 10,
   "id": "1fc63cf2",
   "metadata": {
    "slideshow": {
     "slide_type": "skip"
    }
   },
   "outputs": [
    {
     "data": {
      "text/html": [
       "<div>\n",
       "<style scoped>\n",
       "    .dataframe tbody tr th:only-of-type {\n",
       "        vertical-align: middle;\n",
       "    }\n",
       "\n",
       "    .dataframe tbody tr th {\n",
       "        vertical-align: top;\n",
       "    }\n",
       "\n",
       "    .dataframe thead th {\n",
       "        text-align: right;\n",
       "    }\n",
       "</style>\n",
       "<table border=\"1\" class=\"dataframe\">\n",
       "  <thead>\n",
       "    <tr style=\"text-align: right;\">\n",
       "      <th></th>\n",
       "      <th>InternationalGrade</th>\n",
       "      <th>BirthMonth</th>\n",
       "      <th>BirthYear</th>\n",
       "      <th>AGE</th>\n",
       "      <th>IndexEconomicSocialCulturalStatus</th>\n",
       "      <th>Wealth</th>\n",
       "      <th>GRADE</th>\n",
       "    </tr>\n",
       "  </thead>\n",
       "  <tbody>\n",
       "    <tr>\n",
       "      <th>count</th>\n",
       "      <td>278698.000000</td>\n",
       "      <td>278698.000000</td>\n",
       "      <td>278698.000000</td>\n",
       "      <td>278698.000000</td>\n",
       "      <td>278698.000000</td>\n",
       "      <td>278698.000000</td>\n",
       "      <td>278698.000000</td>\n",
       "    </tr>\n",
       "    <tr>\n",
       "      <th>mean</th>\n",
       "      <td>9.680740</td>\n",
       "      <td>6.536613</td>\n",
       "      <td>1996.068346</td>\n",
       "      <td>15.783671</td>\n",
       "      <td>-0.203391</td>\n",
       "      <td>-0.280945</td>\n",
       "      <td>-0.133740</td>\n",
       "    </tr>\n",
       "    <tr>\n",
       "      <th>std</th>\n",
       "      <td>0.731788</td>\n",
       "      <td>3.419957</td>\n",
       "      <td>0.252340</td>\n",
       "      <td>0.290358</td>\n",
       "      <td>1.110699</td>\n",
       "      <td>1.195368</td>\n",
       "      <td>0.624277</td>\n",
       "    </tr>\n",
       "    <tr>\n",
       "      <th>min</th>\n",
       "      <td>7.000000</td>\n",
       "      <td>1.000000</td>\n",
       "      <td>1996.000000</td>\n",
       "      <td>15.250000</td>\n",
       "      <td>-5.950000</td>\n",
       "      <td>-6.080000</td>\n",
       "      <td>-3.000000</td>\n",
       "    </tr>\n",
       "    <tr>\n",
       "      <th>25%</th>\n",
       "      <td>9.000000</td>\n",
       "      <td>4.000000</td>\n",
       "      <td>1996.000000</td>\n",
       "      <td>15.580000</td>\n",
       "      <td>-0.930000</td>\n",
       "      <td>-0.950000</td>\n",
       "      <td>0.000000</td>\n",
       "    </tr>\n",
       "    <tr>\n",
       "      <th>50%</th>\n",
       "      <td>10.000000</td>\n",
       "      <td>7.000000</td>\n",
       "      <td>1996.000000</td>\n",
       "      <td>15.750000</td>\n",
       "      <td>-0.130000</td>\n",
       "      <td>-0.230000</td>\n",
       "      <td>0.000000</td>\n",
       "    </tr>\n",
       "    <tr>\n",
       "      <th>75%</th>\n",
       "      <td>10.000000</td>\n",
       "      <td>9.000000</td>\n",
       "      <td>1996.000000</td>\n",
       "      <td>16.000000</td>\n",
       "      <td>0.660000</td>\n",
       "      <td>0.440000</td>\n",
       "      <td>0.000000</td>\n",
       "    </tr>\n",
       "    <tr>\n",
       "      <th>max</th>\n",
       "      <td>13.000000</td>\n",
       "      <td>12.000000</td>\n",
       "      <td>1997.000000</td>\n",
       "      <td>16.330000</td>\n",
       "      <td>3.270000</td>\n",
       "      <td>3.250000</td>\n",
       "      <td>3.000000</td>\n",
       "    </tr>\n",
       "  </tbody>\n",
       "</table>\n",
       "</div>"
      ],
      "text/plain": [
       "       InternationalGrade     BirthMonth      BirthYear            AGE  \\\n",
       "count       278698.000000  278698.000000  278698.000000  278698.000000   \n",
       "mean             9.680740       6.536613    1996.068346      15.783671   \n",
       "std              0.731788       3.419957       0.252340       0.290358   \n",
       "min              7.000000       1.000000    1996.000000      15.250000   \n",
       "25%              9.000000       4.000000    1996.000000      15.580000   \n",
       "50%             10.000000       7.000000    1996.000000      15.750000   \n",
       "75%             10.000000       9.000000    1996.000000      16.000000   \n",
       "max             13.000000      12.000000    1997.000000      16.330000   \n",
       "\n",
       "       IndexEconomicSocialCulturalStatus         Wealth          GRADE  \n",
       "count                      278698.000000  278698.000000  278698.000000  \n",
       "mean                           -0.203391      -0.280945      -0.133740  \n",
       "std                             1.110699       1.195368       0.624277  \n",
       "min                            -5.950000      -6.080000      -3.000000  \n",
       "25%                            -0.930000      -0.950000       0.000000  \n",
       "50%                            -0.130000      -0.230000       0.000000  \n",
       "75%                             0.660000       0.440000       0.000000  \n",
       "max                             3.270000       3.250000       3.000000  "
      ]
     },
     "execution_count": 10,
     "metadata": {},
     "output_type": "execute_result"
    }
   ],
   "source": [
    "df1.describe()"
   ]
  },
  {
   "cell_type": "code",
   "execution_count": 11,
   "id": "826e738b",
   "metadata": {
    "scrolled": true,
    "slideshow": {
     "slide_type": "skip"
    }
   },
   "outputs": [
    {
     "name": "stdout",
     "output_type": "stream",
     "text": [
      "<class 'pandas.core.frame.DataFrame'>\n",
      "Int64Index: 278698 entries, 4743 to 485488\n",
      "Data columns (total 15 columns):\n",
      " #   Column                             Non-Null Count   Dtype  \n",
      "---  ------                             --------------   -----  \n",
      " 0   Country                            278698 non-null  object \n",
      " 1   OECD                               278698 non-null  object \n",
      " 2   InternationalGrade                 278698 non-null  int64  \n",
      " 3   Gender                             278698 non-null  object \n",
      " 4   BirthMonth                         278698 non-null  int64  \n",
      " 5   BirthYear                          278698 non-null  int64  \n",
      " 6   AGE                                278698 non-null  float64\n",
      " 7   IndexEconomicSocialCulturalStatus  278698 non-null  float64\n",
      " 8   MotherEducation                    278698 non-null  object \n",
      " 9   FatherJobStatus                    278698 non-null  object \n",
      " 10  TimeWaste                          278698 non-null  object \n",
      " 11  UsefulForJob                       278698 non-null  object \n",
      " 12  Internet                           278698 non-null  object \n",
      " 13  Wealth                             278698 non-null  float64\n",
      " 14  GRADE                              278698 non-null  float64\n",
      "dtypes: float64(4), int64(3), object(8)\n",
      "memory usage: 34.0+ MB\n"
     ]
    }
   ],
   "source": [
    "df1.info()"
   ]
  },
  {
   "cell_type": "code",
   "execution_count": 12,
   "id": "ea7ba1d6",
   "metadata": {
    "slideshow": {
     "slide_type": "skip"
    }
   },
   "outputs": [],
   "source": [
    "df1.Country.nunique(), df1.Country.unique();\n",
    "catCols = df1.select_dtypes(\"object\").columns\n",
    "catCols= list(set(catCols))"
   ]
  },
  {
   "cell_type": "code",
   "execution_count": 13,
   "id": "a1735836",
   "metadata": {
    "slideshow": {
     "slide_type": "skip"
    }
   },
   "outputs": [],
   "source": [
    "# conver object columns into categories with orderedness    \n",
    "from pandas.api.types import CategoricalDtype\n",
    "\n",
    "questionaire_classes = pd.Series(['Strongly disagree', 'Disagree', 'Agree', 'Strongly agree'])\n",
    "#ISCED (International Standard Classification of Education)\n",
    "MotherEducation_classes = pd.Series(['None', 'ISCED 1','ISCED 2',  'ISCED 3B, C', 'ISCED 3A, ISCED 4', 'ISCED 5B','ISCED 5A, 6'])\n",
    "\n",
    "MotherEducation_order = CategoricalDtype(ordered=True, categories=MotherEducation_classes)\n",
    "questionaire_order = CategoricalDtype(ordered=True, categories=questionaire_classes)\n",
    "\n",
    "df1['MotherEducation'] = df1['MotherEducation'].astype(MotherEducation_order)\n",
    "df1[['UsefulForJob','TimeWaste']] = df1[['UsefulForJob','TimeWaste']].astype(questionaire_order)"
   ]
  },
  {
   "cell_type": "markdown",
   "id": "42be6132",
   "metadata": {
    "slideshow": {
     "slide_type": "slide"
    }
   },
   "source": [
    "# Who were covered by the survey?\n",
    "\n",
    "Data represets males and females equally"
   ]
  },
  {
   "cell_type": "code",
   "execution_count": 14,
   "id": "83ee25ad",
   "metadata": {
    "slideshow": {
     "slide_type": "subslide"
    }
   },
   "outputs": [
    {
     "data": {
      "image/png": "[encoded data removed]",
      "text/plain": [
       "<Figure size 432x288 with 1 Axes>"
      ]
     },
     "metadata": {
      "needs_background": "light"
     },
     "output_type": "display_data"
    }
   ],
   "source": [
    "base_color = sb.color_palette()[0]\n",
    "\n",
    "sb.countplot(data=df1, x='Gender', color=base_color)\n",
    "plt.title('How Differnt Genders Represented');"
   ]
  },
  {
   "cell_type": "markdown",
   "id": "6e51ccbc",
   "metadata": {
    "slideshow": {
     "slide_type": "slide"
    }
   },
   "source": [
    "# From Where?\n",
    "\n",
    "The break down of the participants are unbalanced. Roughly half of students covered by the survey are participating from Europe and less than 1% from Africa."
   ]
  },
  {
   "cell_type": "code",
   "execution_count": 15,
   "id": "6221c831",
   "metadata": {
    "slideshow": {
     "slide_type": "subslide"
    }
   },
   "outputs": [
    {
     "ename": "NameError",
     "evalue": "name 'df3' is not defined",
     "output_type": "error",
     "traceback": [
      "\u001b[1;31m---------------------------------------------------------------------------\u001b[0m",
      "\u001b[1;31mNameError\u001b[0m                                 Traceback (most recent call last)",
      "\u001b[1;32m<ipython-input-15-95983608f717>\u001b[0m in \u001b[0;36m<module>\u001b[1;34m\u001b[0m\n\u001b[0;32m      3\u001b[0m \u001b[1;33m\u001b[0m\u001b[0m\n\u001b[0;32m      4\u001b[0m \u001b[0mfig1\u001b[0m\u001b[1;33m,\u001b[0m \u001b[0max1\u001b[0m \u001b[1;33m=\u001b[0m \u001b[0mplt\u001b[0m\u001b[1;33m.\u001b[0m\u001b[0msubplots\u001b[0m\u001b[1;33m(\u001b[0m\u001b[1;33m)\u001b[0m\u001b[1;33m\u001b[0m\u001b[1;33m\u001b[0m\u001b[0m\n\u001b[1;32m----> 5\u001b[1;33m \u001b[0max1\u001b[0m\u001b[1;33m.\u001b[0m\u001b[0mpie\u001b[0m\u001b[1;33m(\u001b[0m\u001b[0mdf3\u001b[0m\u001b[1;33m.\u001b[0m\u001b[0mvalues\u001b[0m\u001b[1;33m,\u001b[0m \u001b[0mcolors\u001b[0m \u001b[1;33m=\u001b[0m \u001b[0mcolors\u001b[0m\u001b[1;33m,\u001b[0m \u001b[0mlabels\u001b[0m\u001b[1;33m=\u001b[0m\u001b[0mdf3\u001b[0m\u001b[1;33m.\u001b[0m\u001b[0mindex\u001b[0m\u001b[1;33m,\u001b[0m \u001b[0mautopct\u001b[0m\u001b[1;33m=\u001b[0m\u001b[1;34m'%1.1f%%'\u001b[0m\u001b[1;33m,\u001b[0m \u001b[0mstartangle\u001b[0m\u001b[1;33m=\u001b[0m\u001b[1;36m30\u001b[0m\u001b[1;33m)\u001b[0m\u001b[1;33m\u001b[0m\u001b[1;33m\u001b[0m\u001b[0m\n\u001b[0m\u001b[0;32m      6\u001b[0m \u001b[1;31m#draw circle\u001b[0m\u001b[1;33m\u001b[0m\u001b[1;33m\u001b[0m\u001b[1;33m\u001b[0m\u001b[0m\n\u001b[0;32m      7\u001b[0m \u001b[0mcentre_circle\u001b[0m \u001b[1;33m=\u001b[0m \u001b[0mplt\u001b[0m\u001b[1;33m.\u001b[0m\u001b[0mCircle\u001b[0m\u001b[1;33m(\u001b[0m\u001b[1;33m(\u001b[0m\u001b[1;36m0\u001b[0m\u001b[1;33m,\u001b[0m\u001b[1;36m0\u001b[0m\u001b[1;33m)\u001b[0m\u001b[1;33m,\u001b[0m\u001b[1;36m0.75\u001b[0m\u001b[1;33m,\u001b[0m\u001b[0mfc\u001b[0m\u001b[1;33m=\u001b[0m\u001b[1;34m'white'\u001b[0m\u001b[1;33m)\u001b[0m\u001b[1;33m\u001b[0m\u001b[1;33m\u001b[0m\u001b[0m\n",
      "\u001b[1;31mNameError\u001b[0m: name 'df3' is not defined"
     ]
    },
    {
     "data": {
      "image/png": "[encoded data removed]",
      "text/plain": [
       "<Figure size 432x288 with 1 Axes>"
      ]
     },
     "metadata": {
      "needs_background": "light"
     },
     "output_type": "display_data"
    }
   ],
   "source": [
    "#colors\n",
    "colors = ['#ff9999','#66b3ff','#99ff99','#ffcc99','#c2c2f0','#ffb3e6']\n",
    " \n",
    "fig1, ax1 = plt.subplots()\n",
    "ax1.pie(df3.values, colors = colors, labels=df3.index, autopct='%1.1f%%', startangle=30)\n",
    "#draw circle\n",
    "centre_circle = plt.Circle((0,0),0.75,fc='white')\n",
    "fig = plt.gcf()\n",
    "fig.gca().add_artist(centre_circle)\n",
    "# Equal aspect ratio ensures that pie is drawn as a circle\n",
    "ax1.axis('equal')  \n",
    "plt.tight_layout()\n",
    "plt.title('Participants Break Down by Continents', pad=32, fontsize=15)\n",
    "plt.show()\n",
    "#source (https://medium.com/@kvnamipara/a-better-visualisation-of-pie-charts-by-matplotlib-935b7667d77f)"
   ]
  },
  {
   "cell_type": "markdown",
   "id": "64a2cfdf",
   "metadata": {
    "slideshow": {
     "slide_type": "slide"
    }
   },
   "source": [
    "# Do they have internet access?\n",
    "\n",
    "Most of students have internet access"
   ]
  },
  {
   "cell_type": "code",
   "execution_count": null,
   "id": "a738931a",
   "metadata": {
    "slideshow": {
     "slide_type": "subslide"
    }
   },
   "outputs": [],
   "source": [
    "sb.countplot(data=df1, x='Internet', color=base_color)\n",
    "plt.title('Who Has internet Access');"
   ]
  },
  {
   "cell_type": "code",
   "execution_count": null,
   "id": "cb65fe74",
   "metadata": {
    "slideshow": {
     "slide_type": "skip"
    }
   },
   "outputs": [],
   "source": [
    "#function to plot categorical ordinal variables\n",
    "\n",
    "def plot_percentage(df, col):\n",
    "    plt.figure(figsize = [12, 5])\n",
    "    ax = sb.countplot(y=col, data=df, color=base_color)\n",
    "    total = len(df[col])\n",
    "    for p in ax.patches:\n",
    "        percentage = '{:.1f}%'.format(100 * p.get_width()/total)\n",
    "        x = p.get_x() + p.get_width() + 0.02\n",
    "        y = p.get_y() + p.get_height()/2\n",
    "        ax.annotate(percentage, (x, y))\n",
    "    return ax\n",
    "#source (https://datascience.stackexchange.com/questions/48035/how-to-show-percentage-text-next-to-the-horizontal-bars-in-matplotlib)"
   ]
  },
  {
   "cell_type": "markdown",
   "id": "eb2d2846",
   "metadata": {
    "slideshow": {
     "slide_type": "slide"
    }
   },
   "source": [
    "# Do their Fathers have jobs?\n",
    "\n",
    "Majority of students' fathers have full time jobs."
   ]
  },
  {
   "cell_type": "code",
   "execution_count": null,
   "id": "3aa66d5d",
   "metadata": {
    "scrolled": false,
    "slideshow": {
     "slide_type": "subslide"
    }
   },
   "outputs": [],
   "source": [
    "#that was the basic plot in the exploratory stage\n",
    "#plt.pie(sorted_counts, labels = sorted_counts.index, startangle = 90,counterclock = False);\n",
    "\n",
    "\n",
    "#this is the basic plot in the explanatory stage\n",
    "\n",
    "# Creating explode data\n",
    "explode = (0.1, 0.3, 0.1, 0.2)\n",
    "\n",
    "colors = ( \"orange\", \"cyan\", \"indigo\", \"beige\")\n",
    "# Wedge properties\n",
    "wp = { 'linewidth' : 1, 'edgecolor' : \"green\" }\n",
    "\n",
    "# Creating autocpt arguments\n",
    "def func(pct, allvalues):\n",
    "    absolute = int(pct / 100.*np.sum(allvalues))\n",
    "    return \"{:.1f}%\".format(pct, absolute)\n",
    "\n",
    "# Creating plot\n",
    "fig, ax = plt.subplots(figsize =(10, 7))\n",
    "wedges, texts, autotexts = ax.pie(sorted_counts, \n",
    "                                  autopct = lambda pct: func(pct, sorted_counts),\n",
    "                                  explode = explode, \n",
    "                                  labels = sorted_counts.index,\n",
    "                                  shadow = True,\n",
    "                                  colors = colors,\n",
    "                                  startangle = 90,\n",
    "                                  wedgeprops = wp,\n",
    "                                  textprops = dict(color =\"magenta\"))\n",
    "\n",
    "plt.title('Job Status of Students\\' Fathers', pad=32, fontsize=15, color = \"magenta\");\n",
    "\n",
    "#source (https://www.geeksforgeeks.org/plot-a-pie-chart-in-python-using-matplotlib/)"
   ]
  },
  {
   "cell_type": "markdown",
   "id": "2407e7b8",
   "metadata": {
    "slideshow": {
     "slide_type": "slide"
    }
   },
   "source": [
    "# What are their Mothers Education Levels?\n",
    "\n",
    "Few mothers with no education and more than 75% of mothers have post-secondary non-tertiary education."
   ]
  },
  {
   "cell_type": "markdown",
   "id": "c2968b26",
   "metadata": {
    "slideshow": {
     "slide_type": "slide"
    }
   },
   "source": [
    "# International Standard Classification of Education\n",
    "\n",
    "ISCED 0: Early childhood education.\n",
    "\n",
    "ISCED 1: Primary education.\n",
    "\n",
    "ISCED 2: Lower secondary education.\n",
    "\n",
    "ISCED 3: Upper secondary education.\n",
    "\n",
    "ISCED 4: Post-secondary non-tertiary education.\n",
    "\n",
    "ISCED 5: Short-cycle tertiary education."
   ]
  },
  {
   "cell_type": "code",
   "execution_count": null,
   "id": "927c4d7a",
   "metadata": {
    "slideshow": {
     "slide_type": "subslide"
    }
   },
   "outputs": [],
   "source": [
    "plot_percentage(df1, \"MotherEducation\");"
   ]
  },
  {
   "cell_type": "markdown",
   "id": "baecc5b1",
   "metadata": {
    "slideshow": {
     "slide_type": "slide"
    }
   },
   "source": [
    "# Wealth vs. Index of Economics Social Cultural Status\n",
    "\n",
    "The plots reveal a positive correlation between the wealth and the index of economics social cultural status. The overplotting of the scatter plot obscurs the distribution of the data, but this was solved by the 2D histogram. The data seems normalized to me with high concentration points around 0."
   ]
  },
  {
   "cell_type": "code",
   "execution_count": null,
   "id": "e2930e00",
   "metadata": {
    "slideshow": {
     "slide_type": "subslide"
    }
   },
   "outputs": [],
   "source": [
    "cmap = sb.diverging_palette(240, 10, as_cmap=True)\n",
    "plt.hist2d(data = df1, x = 'Wealth', y = 'IndexEconomicSocialCulturalStatus', cmin=0.5, cmap=cmap)\n",
    "plt.colorbar()\n",
    "plt.xlabel('Wealth')\n",
    "plt.ylabel('IndexEconomicSocialCulturalStatus');\n",
    "plt.title('Wealth vs the Index of Economics Social Cultural Status');\n",
    "#source (https://classroom.udacity.com/nanodegrees/nd002-mena-nfp3/parts/211104e3-a5bc-4247-87b7-06bfa757806c/modules/884648ee-be0a-4bde-853f-26e97458edc8/lessons/22ff3b91-42f7-420e-b6ad-de0b29684ed0/concepts/8f54c142-468e-4e1a-abef-4c6425403a3b)"
   ]
  },
  {
   "cell_type": "code",
   "execution_count": null,
   "id": "c9b7ef53",
   "metadata": {
    "slideshow": {
     "slide_type": "skip"
    }
   },
   "outputs": [],
   "source": [
    "df1.loc[df1['Country'].str.contains('(USA)'), 'Country'] = 'United States'\n",
    "df1.loc[df1['Country'].str.contains('(Russian Federation)'), 'Country'] = 'Russia'\n",
    "df1['Country'] = df1['Country'].str.replace('China-Shanghai','China')\n",
    "df1['Country'] = df1['Country'].str.replace('-China','')\n",
    "df1['Country'] = df1['Country'].str.replace('Korea','North Korea')\n",
    "df1['Country'] = df1['Country'].str.replace('Chinese Taipei','Taiwan')"
   ]
  },
  {
   "cell_type": "code",
   "execution_count": null,
   "id": "a04ba191",
   "metadata": {
    "slideshow": {
     "slide_type": "skip"
    }
   },
   "outputs": [],
   "source": [
    "#pip install pycountry-convert\n",
    "from pycountry_convert import country_alpha2_to_continent_code, country_name_to_country_alpha2\n",
    "\n",
    "continents = {\n",
    "    'NA': 'North America',\n",
    "    'SA': 'South America', \n",
    "    'AS': 'Asia',\n",
    "    'OC': 'Australia',\n",
    "    'AF': 'Africa',\n",
    "    'EU': 'Europe'\n",
    "}\n",
    "\n",
    "df1['continent'] = [continents[country_alpha2_to_continent_code(country_name_to_country_alpha2(country))] for country in df1.Country]\n",
    "\n",
    "df3 = df1.groupby('continent')['continent'].count()\n",
    "\n",
    "#source (https://stackoverflow.com/questions/55910004/get-continent-name-from-country-using-pycountry)"
   ]
  },
  {
   "cell_type": "code",
   "execution_count": null,
   "id": "1355fa0f",
   "metadata": {
    "scrolled": true,
    "slideshow": {
     "slide_type": "skip"
    }
   },
   "outputs": [],
   "source": [
    "sorted_counts = df1['FatherJobStatus'].value_counts()\n",
    "sorted_counts.index"
   ]
  },
  {
   "cell_type": "markdown",
   "id": "57554c4c",
   "metadata": {
    "slideshow": {
     "slide_type": "slide"
    }
   },
   "source": [
    "# What is the effect of the wealth on their academic perfornace?\n",
    "\n",
    "The mode of students grade increases with the wealth consitly till grade 2. Beyond that the behavior is amazing. The best academic performance is achieved by subaverage wealth students. Also, the wealth distribution of the best academic performers is tighter that the rest and centered around -2."
   ]
  },
  {
   "cell_type": "code",
   "execution_count": null,
   "id": "99aeb90f",
   "metadata": {
    "slideshow": {
     "slide_type": "subslide"
    }
   },
   "outputs": [],
   "source": [
    "sb.violinplot(data=df1, x='GRADE', y='Wealth',color=base_color, innner=None);\n",
    "#consistent increase of wealth mode with grades except for the highest grade that is coresponding to the least wealthy people\n",
    "#distribution is tight, the best academid performance is associated with the least wealthy\n",
    "plt.title('Wealth Effect on the Student Grade', pad=12, fontsize=15);"
   ]
  },
  {
   "cell_type": "code",
   "execution_count": null,
   "id": "7335aac3",
   "metadata": {
    "slideshow": {
     "slide_type": "skip"
    }
   },
   "outputs": [],
   "source": [
    "sb.countplot(data = df1, x = 'Internet', hue = 'OECD');\n",
    "plt.title('Who has Internet Access?', pad=12, fontsize=15);"
   ]
  },
  {
   "cell_type": "markdown",
   "id": "1ac368cd",
   "metadata": {
    "slideshow": {
     "slide_type": "skip"
    }
   },
   "source": [
    "Although Non-OECD contries representation in the data is less, still there are more people with no internet access there."
   ]
  },
  {
   "cell_type": "code",
   "execution_count": null,
   "id": "7a5eab09",
   "metadata": {
    "slideshow": {
     "slide_type": "skip"
    }
   },
   "outputs": [],
   "source": [
    "g = sb.FacetGrid(data = df1, col = 'OECD', sharey=False)\n",
    "g.map(plt.hist, 'Wealth')\n",
    "\n",
    "g.fig.subplots_adjust(top=0.8)\n",
    "g.fig.suptitle('How Wealth is Distributed?');"
   ]
  },
  {
   "cell_type": "markdown",
   "id": "3787cae2",
   "metadata": {
    "slideshow": {
     "slide_type": "skip"
    }
   },
   "source": [
    "Students in OECD have wealth mode and mean above average contrary to students in Non-OECD countries."
   ]
  },
  {
   "cell_type": "code",
   "execution_count": null,
   "id": "f3dde42e",
   "metadata": {
    "slideshow": {
     "slide_type": "skip"
    }
   },
   "outputs": [],
   "source": [
    "ax = sb.pointplot(data = df1, x = 'OECD', y = 'Wealth', hue = 'MotherEducation',\n",
    "                  dodge = 0.3, linestyles = \"\")\n",
    "plt.title('Mother Education Level Relation with Wealth', pad=12, fontsize=15);\n",
    "plt.legend(bbox_to_anchor=(1.05, 1), loc='upper left', borderaxespad=0, title = 'Education Level');"
   ]
  },
  {
   "cell_type": "markdown",
   "id": "d4e27f0e",
   "metadata": {
    "slideshow": {
     "slide_type": "skip"
    }
   },
   "source": [
    "Higher mother education level is closely related with wealth and this trend is similar across OECD and Non-OECD countries.\n",
    "Also, each woman in one of OECD countries has more wealth than her peer with the same education level in Non-OECD countries."
   ]
  },
  {
   "cell_type": "markdown",
   "id": "46a03910",
   "metadata": {
    "slideshow": {
     "slide_type": "slide"
    }
   },
   "source": [
    "# Grade vs. Wealth\n",
    "\n",
    "The students grade increases with the wealth consitly till grade 2. Beyond that the behavior is amazing. The best academic performance is achieved by subaverage wealth students. Also, the wealth distribution of the best academic performers is tighter that the rest and centered around -2. Majority of top academic performance comes from Non-OECD countries."
   ]
  },
  {
   "cell_type": "code",
   "execution_count": null,
   "id": "a782c2d6",
   "metadata": {
    "slideshow": {
     "slide_type": "subslide"
    }
   },
   "outputs": [],
   "source": [
    "ax = sb.pointplot(data = df1, x = 'OECD', y = 'Wealth', hue = 'GRADE',\n",
    "                  dodge = 0.3, linestyles = \"\")\n",
    "plt.title('Grade Relation with Wealth', pad=12, fontsize=15);\n",
    "plt.legend(loc='lower right');"
   ]
  },
  {
   "cell_type": "code",
   "execution_count": null,
   "id": "36bcfa67",
   "metadata": {
    "slideshow": {
     "slide_type": "skip"
    }
   },
   "outputs": [],
   "source": [
    "ax = sb.boxplot(data = df1, x = 'GRADE', y = 'Wealth', hue = 'Gender')\n",
    "plt.title('Gender and Grade Relation with Wealth', pad=12, fontsize=15);"
   ]
  },
  {
   "cell_type": "markdown",
   "id": "33b96d24",
   "metadata": {
    "slideshow": {
     "slide_type": "skip"
    }
   },
   "source": [
    "Wealth median, 25th qurtile and 75th qurtile are higher for the female students."
   ]
  },
  {
   "cell_type": "markdown",
   "id": "ac5f354f",
   "metadata": {
    "slideshow": {
     "slide_type": "slide"
    }
   },
   "source": [
    "# How Mothers' Education Affect the students' Grades?\n",
    "\n",
    "The students grade is increasing consitently woth the mother education level then tends to trail off at the avarage grade. Female students appear to outperform the male students."
   ]
  },
  {
   "cell_type": "code",
   "execution_count": null,
   "id": "ca5d1cde",
   "metadata": {
    "slideshow": {
     "slide_type": "subslide"
    }
   },
   "outputs": [],
   "source": [
    "ax = sb.pointplot(data = df1, x = 'MotherEducation', y = 'GRADE', hue = 'Gender',\n",
    "                  dodge = 0.3, linestyles = \"\")\n",
    "plt.title('Mother Education Level Relation with the Grade', pad=12, fontsize=15);\n",
    "plt.xticks(rotation=25);"
   ]
  },
  {
   "cell_type": "markdown",
   "id": "ad9d3d99",
   "metadata": {
    "slideshow": {
     "slide_type": "slide"
    }
   },
   "source": [
    "# Main Takeaways\n",
    "\n",
    "The data do not represent the world students equally.\n",
    "Students attitude towards the importance of the study for the job does not affect their grades.\n",
    "The attitude of the students towards the importance of the study for the job does not affect their grades difference from the modal grade.\n",
    "Best academic performance is associated with the least wealthy students.\n",
    "Higher mother education level is closely related with wealth and this trend is similar across OECD and Non-OECD countries. Also, each woman in one of OECD countries has more wealth than her peer with the same education level in Non-OECD countries.\n",
    "The students grade is increasing consitently woth the mother education level then tends to trail off at the avarage grade. Female students appear to outperform the male students."
   ]
  },
  {
   "cell_type": "code",
   "execution_count": null,
   "id": "d3ceffae",
   "metadata": {
    "slideshow": {
     "slide_type": "skip"
    }
   },
   "outputs": [],
   "source": [
    "!jupyter nbconvert Communicate_Findings_Explanatory.ipynb --to slides --no-input"
   ]
  }
 ],
 "metadata": {
  "celltoolbar": "Slideshow",
  "kernelspec": {
   "display_name": "Python 3",
   "language": "python",
   "name": "python3"
  },
  "language_info": {
   "codemirror_mode": {
    "name": "ipython",
    "version": 3
   },
   "file_extension": ".py",
   "mimetype": "text/x-python",
   "name": "python",
   "nbconvert_exporter": "python",
   "pygments_lexer": "ipython3",
   "version": "3.8.8"
  }
 },
 "nbformat": 4,
 "nbformat_minor": 5
}
